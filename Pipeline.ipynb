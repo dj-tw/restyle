{
 "cells": [
  {
   "cell_type": "code",
   "execution_count": 1,
   "id": "790d3b37",
   "metadata": {},
   "outputs": [],
   "source": [
    "# These are optional and for Google colab\n",
    "# Sometimes the instance deletes all data and so this needs to be run again\n",
    "# ! git clone https://github.com/dj-tw/restyle.git\n",
    "# % cd restyle\n",
    "# !git pull"
   ]
  },
  {
   "cell_type": "code",
   "execution_count": 2,
   "id": "aea46c6e",
   "metadata": {},
   "outputs": [],
   "source": [
    "import torch\n",
    "from restyle.pipeline import get_params, run\n",
    "from restyle.file_io import upload_image_file"
   ]
  },
  {
   "cell_type": "code",
   "execution_count": null,
   "outputs": [],
   "source": [
    "# get the parameters, can change any variables (printed below) with keywords\n",
    "params = get_params()\n"
   ],
   "metadata": {
    "collapsed": false,
    "pycharm": {
     "name": "#%%\n"
    }
   }
  },
  {
   "cell_type": "code",
   "execution_count": 3,
   "id": "310c54cc",
   "metadata": {},
   "outputs": [
    {
     "name": "stdout",
     "output_type": "stream",
     "text": [
      "Not running on CoLab, using existing content, style files\n"
     ]
    }
   ],
   "source": [
    "\"\"\"upload the content image\"\"\"\n",
    "content = upload_image_file('content', params)\n",
    "content"
   ]
  },
  {
   "cell_type": "code",
   "execution_count": null,
   "outputs": [],
   "source": [
    "\"\"\"upload the style image\"\"\"\n",
    "style = upload_image_file('style', params)\n",
    "style\n"
   ],
   "metadata": {
    "collapsed": false,
    "pycharm": {
     "name": "#%%\n"
    }
   }
  },
  {
   "cell_type": "code",
   "execution_count": null,
   "outputs": [],
   "source": [
    "run(params)"
   ],
   "metadata": {
    "collapsed": false,
    "pycharm": {
     "name": "#%%\n"
    }
   }
  },
  {
   "cell_type": "code",
   "execution_count": null,
   "id": "ca93a3aa",
   "metadata": {},
   "outputs": [],
   "source": []
  }
 ],
 "metadata": {
  "kernelspec": {
   "display_name": "Python 3 (ipykernel)",
   "language": "python",
   "name": "python3"
  },
  "language_info": {
   "codemirror_mode": {
    "name": "ipython",
    "version": 3
   },
   "file_extension": ".py",
   "mimetype": "text/x-python",
   "name": "python",
   "nbconvert_exporter": "python",
   "pygments_lexer": "ipython3",
   "version": "3.7.6"
  },
  "pycharm": {
   "stem_cell": {
    "cell_type": "raw",
    "source": [],
    "metadata": {
     "collapsed": false
    }
   }
  }
 },
 "nbformat": 4,
 "nbformat_minor": 5
}